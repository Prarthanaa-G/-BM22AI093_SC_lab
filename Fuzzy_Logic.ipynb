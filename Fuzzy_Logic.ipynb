{
  "nbformat": 4,
  "nbformat_minor": 0,
  "metadata": {
    "colab": {
      "provenance": []
    },
    "kernelspec": {
      "name": "python3",
      "display_name": "Python 3"
    },
    "language_info": {
      "name": "python"
    }
  },
  "cells": [
    {
      "cell_type": "code",
      "source": [
        "\n",
        "def min_max_composition_formula(temperature, humidity):\n",
        "\n",
        "\n",
        "\n",
        "    R_A = [0.0, 0.5, 1.0]\n",
        "    R_B = [0.0, 0.6, 1.0]\n",
        "\n",
        "\n",
        "    min_values = [min(R_A[i], R_B[i]) for i in range(len(R_A))]\n",
        "    n\n",
        "    R_C = max(min_values)\n",
        "\n",
        "\n",
        "    print(f\"Temperature fuzzy relation (R_A): {R_A}\")\n",
        "    print(f\"Humidity fuzzy relation (R_B): {R_B}\")\n",
        "    print(f\"Min values between R_A and R_B: {min_values}\")\n",
        "    print(f\"Result of Min-Max Composition (R_C): {R_C}\")\n",
        "\n",
        "\n",
        "    if R_C > 0.8:\n",
        "        action = \"Turn the fan to HIGH speed\"\n",
        "    elif R_C > 0.5:\n",
        "        action = \"Turn the fan to MEDIUM speed\"\n",
        "    else:\n",
        "        action = \"Turn the fan to LOW speed\"\n",
        "\n",
        "    return action\n",
        "\n",
        "\n",
        "temperature = 70\n",
        "humidity = 80\n",
        "\n",
        "action = min_max_composition_formula(temperature, humidity)\n",
        "print(f\"Action: {action}\")"
      ],
      "metadata": {
        "id": "VNt4MGGfEDzX",
        "colab": {
          "base_uri": "https://localhost:8080/"
        },
        "outputId": "19e97dcf-3cd8-4e20-abfa-eee8ec3dcf2d"
      },
      "execution_count": null,
      "outputs": [
        {
          "output_type": "stream",
          "name": "stdout",
          "text": [
            "Temperature fuzzy relation (R_A): [0.0, 0.5, 1.0]\n",
            "Humidity fuzzy relation (R_B): [0.0, 0.6, 1.0]\n",
            "Min values between R_A and R_B: [0.0, 0.5, 1.0]\n",
            "Result of Min-Max Composition (R_C): 1.0\n",
            "Action: Turn the fan to HIGH speed\n"
          ]
        }
      ]
    }
  ]
}