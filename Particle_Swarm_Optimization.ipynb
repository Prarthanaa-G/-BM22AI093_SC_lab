{
  "nbformat": 4,
  "nbformat_minor": 0,
  "metadata": {
    "colab": {
      "provenance": []
    },
    "kernelspec": {
      "name": "python3",
      "display_name": "Python 3"
    },
    "language_info": {
      "name": "python"
    }
  },
  "cells": [
    {
      "cell_type": "code",
      "source": [
        "import numpy as np\n",
        "\n",
        "def sphere_function(x):\n",
        "    return np.sum(x**2)  # Example function to minimize\n",
        "\n",
        "# PSO parameters\n",
        "dim = 5  # Number of dimensions\n",
        "bounds = (-10, 10)  # Search space bounds\n",
        "num_particles = 30\n",
        "max_iter = 100\n",
        "w, c1, c2 = 0.5, 1.5, 1.5\n",
        "\n",
        "# Initialize swarm\n",
        "positions = np.random.uniform(bounds[0], bounds[1], (num_particles, dim))\n",
        "velocities = np.random.uniform(-1, 1, (num_particles, dim))\n",
        "best_positions = np.copy(positions)\n",
        "best_scores = np.array([sphere_function(p) for p in positions])\n",
        "global_best_position = best_positions[np.argmin(best_scores)]\n",
        "global_best_score = np.min(best_scores)\n",
        "\n",
        "# Optimization loop\n",
        "for _ in range(max_iter):\n",
        "    for i in range(num_particles):\n",
        "        score = sphere_function(positions[i])\n",
        "        if score < best_scores[i]:\n",
        "            best_scores[i] = score\n",
        "            best_positions[i] = positions[i]\n",
        "        if score < global_best_score:\n",
        "            global_best_score = score\n",
        "            global_best_position = positions[i]\n",
        "\n",
        "    r1, r2 = np.random.rand(num_particles, dim), np.random.rand(num_particles, dim)\n",
        "    velocities = w * velocities + c1 * r1 * (best_positions - positions) + c2 * r2 * (global_best_position - positions)\n",
        "    positions = np.clip(positions + velocities, bounds[0], bounds[1])\n",
        "\n",
        "print(\"Best Position:\", global_best_position)\n",
        "print(\"Best Score:\", global_best_score)\n",
        "\n"
      ],
      "metadata": {
        "colab": {
          "base_uri": "https://localhost:8080/"
        },
        "id": "sEj6v6iyAhQg",
        "outputId": "59464255-b5ae-4dc3-ffdc-b4f47841fbe1"
      },
      "execution_count": null,
      "outputs": [
        {
          "output_type": "stream",
          "name": "stdout",
          "text": [
            "Best Position: [-3.32689103e-09  4.07972120e-09  3.20181216e-09 -1.56963745e-09\n",
            " -1.48472594e-09]\n",
            "Best Score: 4.2632102897491004e-17\n"
          ]
        }
      ]
    }
  ]
}